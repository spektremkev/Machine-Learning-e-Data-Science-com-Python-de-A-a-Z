{
 "cells": [
  {
   "cell_type": "markdown",
   "metadata": {},
   "source": [
    "**Plotly** é uma biblioteca de código aberto que permite a geração de mais de 40 gráficos diferentes e personalizados em Python. Ela é altamente interativa, o que possibilita a criação de visualizações interessantes e personalizadas. Além disso, é extremamente prática, permitindo criar gráficos interativos com apenas uma linha de código.\n",
    "\n",
    "Plotly oferece várias funcionalidades interativas, como zoom e pan em pontos específicos, seleção de dados, botões e controles personalizados, e atualizações dinâmicas.\n",
    "\n",
    "A biblioteca Plotly é composta por três principais módulos:\n",
    "\n",
    "- `plotly.express`: Permite criar visualizações rápidas e eficientes com poucas linhas de código. Oferece bom nível de personalização e uma boa integração com o Pandas.\n",
    "- `plotly.graph_objects`: Possibilita um nível de controle e personalização mais avançado. Com ele, é possível criar múltiplos subplots com personalização em cada detalhe do gráfico. Além disso, tem melhor suporte para gráficos em 3D e visualização de superfícies.\n",
    "- `plotly.offline`: Permite criar gráficos sem depender de uma conexão à Internet.\n",
    "Para instalar a biblioteca, você pode usar o comando `pip install plotly` no terminal do seu computador ou diretamente no Jupyter Notebook.\n",
    "Após a instalação, você pode importar a biblioteca e seus módulos principais para começar a análise. Aqui, importamos o `plotly.express` como `px` e o `plotly.graph_objects` como `go`\n",
    "Plotly permite a criação de diversos tipos de gráficos, como gráficos de linhas, gráficos de barras, gráficos de dispersão, entre outros.\n",
    "\n",
    "**Yellowbrick** é uma biblioteca Python que estende a API do Scikit-Learn para incorporar visualizações no fluxo de trabalho de aprendizado de máquina. Ela é uma ferramenta de código aberto e pura que fornece visualizações de análise e diagnósticos para auxiliar na avaliação do desempenho, estabilidade e valor preditivo dos modelos de aprendizado de máquina.\n",
    "\n",
    "O objetivo principal do Yellowbrick é criar uma API sensata semelhante ao Scikit-Learn. Os visualizadores são os principais objetos no Yellowbrick. Eles são semelhantes aos transformadores no Scikit-Learn. Os visualizadores podem envolver um estimador de modelo, de maneira semelhante à forma como os métodos \"ModelCV\" (por exemplo, RidgeCV, LassoCV) funcionam.\n",
    "\n",
    "Os visualizadores permitem que os usuários direcionem o processo de seleção de modelo, construindo intuição em torno da engenharia de recursos, seleção de algoritmos e ajuste de hiperparâmetros. Por exemplo, eles podem ajudar a diagnosticar problemas comuns em torno da complexidade do modelo e do viés, heteroscedasticidade, subajuste e sobreajuste, ou problemas de equilíbrio de classes .\n",
    "\n",
    "Para usar o Yellowbrick, você pode usar o mesmo fluxo de trabalho que com um modelo Scikit-Learn. Primeiro, importe o visualizador, instancie-o, chame o método `fit()` do visualizador e, em seguida, para renderizar a visualização, chame o método `show()` do visualizador.\n",
    "\n",
    "\n",
    "Para instalar o Yellowbrick, você pode usar o comando `pip install yellowbrick` no terminal do seu computador ou diretamente no Jupyter Notebook.\n",
    "# links\n",
    "https://medium.com/@guilhermedatt/visualiza%C3%A7%C3%A3o-de-dados-interativa-com-plotly-guia-pr%C3%A1tico-em-python-f46cef6065f2 \n",
    "https://asimov.academy/plotly-para-criar-graficos-em-python/\n",
    "https://www.scikit-yb.org/en/latest/quickstart.html\n",
    "https://pypi.org/project/yellowbrick/"
   ]
  },
  {
   "cell_type": "code",
   "execution_count": 2,
   "metadata": {},
   "outputs": [],
   "source": [
    "!pip -q install plotly\n",
    "!pip -q install yellowbrick\n"
   ]
  },
  {
   "cell_type": "code",
   "execution_count": 2,
   "metadata": {},
   "outputs": [],
   "source": [
    "#importação das bibliotecas\n",
    "import pandas as pd\n",
    "import numpy as np\n",
    "import matplotlib.pyplot as plt\n",
    "import seaborn as sns\n",
    "import plotly.express as px\n"
   ]
  },
  {
   "cell_type": "code",
   "execution_count": 11,
   "metadata": {},
   "outputs": [
    {
     "name": "stdout",
     "output_type": "stream",
     "text": [
      "Tamanho da base de dados:  32581\n",
      "\n",
      " Variações da base de dados: \n",
      "\n",
      "    person_age  person_income person_home_ownership  person_emp_length  \\\n",
      "0          22          59000                  RENT              123.0   \n",
      "1          21           9600                   OWN                5.0   \n",
      "2          25           9600              MORTGAGE                1.0   \n",
      "3          23          65500                  RENT                4.0   \n",
      "4          24          54400                  RENT                8.0   \n",
      "\n",
      "  loan_intent loan_grade  loan_amnt  loan_int_rate  loan_status  \\\n",
      "0    PERSONAL          D      35000          16.02            1   \n",
      "1   EDUCATION          B       1000          11.14            0   \n",
      "2     MEDICAL          C       5500          12.87            1   \n",
      "3     MEDICAL          C      35000          15.23            1   \n",
      "4     MEDICAL          C      35000          14.27            1   \n",
      "\n",
      "   loan_percent_income cb_person_default_on_file  cb_person_cred_hist_length  \n",
      "0                 0.59                         Y                           3  \n",
      "1                 0.10                         N                           2  \n",
      "2                 0.57                         N                           3  \n",
      "3                 0.53                         N                           2  \n",
      "4                 0.55                         Y                           4  \n",
      "['person_home_ownership', 'loan_intent', 'loan_grade', 'cb_person_default_on_file']\n"
     ]
    }
   ],
   "source": [
    "#importação da base de dados \n",
    "data = pd.read_csv('credit_risk_dataset.csv')\n",
    "tamnho_data = len(data)\n",
    "colunas_selecionadas = ['person_home_ownership', 'loan_intent', 'loan_grade', 'cb_person_default_on_file']\n",
    "\n",
    "\n",
    "print('Tamanho da base de dados: ', tamnho_data)\n",
    "print('\\n Variações da base de dados: \\n\\n', data.head())\n",
    "print(colunas_selecionadas)\n",
    "\n",
    "\n",
    "\n",
    "\n"
   ]
  },
  {
   "cell_type": "code",
   "execution_count": null,
   "metadata": {},
   "outputs": [],
   "source": []
  }
 ],
 "metadata": {
  "kernelspec": {
   "display_name": "Python 3",
   "language": "python",
   "name": "python3"
  },
  "language_info": {
   "codemirror_mode": {
    "name": "ipython",
    "version": 3
   },
   "file_extension": ".py",
   "mimetype": "text/x-python",
   "name": "python",
   "nbconvert_exporter": "python",
   "pygments_lexer": "ipython3",
   "version": "3.11.6"
  }
 },
 "nbformat": 4,
 "nbformat_minor": 2
}
