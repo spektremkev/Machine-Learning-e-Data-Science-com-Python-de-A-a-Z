{
 "cells": [
  {
   "cell_type": "markdown",
   "metadata": {},
   "source": [
    "**Plotly** é uma biblioteca de código aberto que permite a geração de mais de 40 gráficos diferentes e personalizados em Python. Ela é altamente interativa, o que possibilita a criação de visualizações interessantes e personalizadas. Além disso, é extremamente prática, permitindo criar gráficos interativos com apenas uma linha de código.\n",
    "\n",
    "Plotly oferece várias funcionalidades interativas, como zoom e pan em pontos específicos, seleção de dados, botões e controles personalizados, e atualizações dinâmicas.\n",
    "\n",
    "A biblioteca Plotly é composta por três principais módulos:\n",
    "\n",
    "- `plotly.express`: Permite criar visualizações rápidas e eficientes com poucas linhas de código. Oferece bom nível de personalização e uma boa integração com o Pandas.\n",
    "- `plotly.graph_objects`: Possibilita um nível de controle e personalização mais avançado. Com ele, é possível criar múltiplos subplots com personalização em cada detalhe do gráfico. Além disso, tem melhor suporte para gráficos em 3D e visualização de superfícies.\n",
    "- `plotly.offline`: Permite criar gráficos sem depender de uma conexão à Internet.\n",
    "Para instalar a biblioteca, você pode usar o comando `pip install plotly` no terminal do seu computador ou diretamente no Jupyter Notebook.\n",
    "Após a instalação, você pode importar a biblioteca e seus módulos principais para começar a análise. Aqui, importamos o `plotly.express` como `px` e o `plotly.graph_objects` como `go`\n",
    "Plotly permite a criação de diversos tipos de gráficos, como gráficos de linhas, gráficos de barras, gráficos de dispersão, entre outros.\n",
    "\n",
    "**Yellowbrick** é uma biblioteca Python que estende a API do Scikit-Learn para incorporar visualizações no fluxo de trabalho de aprendizado de máquina. Ela é uma ferramenta de código aberto e pura que fornece visualizações de análise e diagnósticos para auxiliar na avaliação do desempenho, estabilidade e valor preditivo dos modelos de aprendizado de máquina.\n",
    "\n",
    "O objetivo principal do Yellowbrick é criar uma API sensata semelhante ao Scikit-Learn. Os visualizadores são os principais objetos no Yellowbrick. Eles são semelhantes aos transformadores no Scikit-Learn. Os visualizadores podem envolver um estimador de modelo, de maneira semelhante à forma como os métodos \"ModelCV\" (por exemplo, RidgeCV, LassoCV) funcionam.\n",
    "\n",
    "Os visualizadores permitem que os usuários direcionem o processo de seleção de modelo, construindo intuição em torno da engenharia de recursos, seleção de algoritmos e ajuste de hiperparâmetros. Por exemplo, eles podem ajudar a diagnosticar problemas comuns em torno da complexidade do modelo e do viés, heteroscedasticidade, subajuste e sobreajuste, ou problemas de equilíbrio de classes .\n",
    "\n",
    "Para usar o Yellowbrick, você pode usar o mesmo fluxo de trabalho que com um modelo Scikit-Learn. Primeiro, importe o visualizador, instancie-o, chame o método `fit()` do visualizador e, em seguida, para renderizar a visualização, chame o método `show()` do visualizador.\n",
    "\n",
    "\n",
    "Para instalar o Yellowbrick, você pode usar o comando `pip install yellowbrick` no terminal do seu computador ou diretamente no Jupyter Notebook.\n",
    "# links\n",
    "https://medium.com/@guilhermedatt/visualiza%C3%A7%C3%A3o-de-dados-interativa-com-plotly-guia-pr%C3%A1tico-em-python-f46cef6065f2 \n",
    "https://asimov.academy/plotly-para-criar-graficos-em-python/\n",
    "https://www.scikit-yb.org/en/latest/quickstart.html\n",
    "https://pypi.org/project/yellowbrick/"
   ]
  },
  {
   "cell_type": "code",
   "execution_count": 13,
   "metadata": {},
   "outputs": [],
   "source": [
    "!pip -q install plotly\n",
    "!pip -q install yellowbrick\n"
   ]
  },
  {
   "cell_type": "code",
   "execution_count": 32,
   "metadata": {},
   "outputs": [],
   "source": [
    "#importação das bibliotecas\n",
    "import pandas as pd\n",
    "import numpy as np\n",
    "import matplotlib.pyplot as plt\n",
    "import seaborn as sns\n",
    "import plotly.express as px\n",
    "import os\n"
   ]
  },
  {
   "cell_type": "code",
   "execution_count": 38,
   "metadata": {},
   "outputs": [
    {
     "name": "stdout",
     "output_type": "stream",
     "text": [
      "\n",
      "  ['person_age', 'person_income', 'person_home_ownership', 'person_emp_length', 'loan_intent', 'loan_grade', 'loan_amnt', 'loan_int_rate', 'loan_status', 'loan_percent_income', 'cb_person_default_on_file', 'cb_person_cred_hist_length']\n",
      "Tamanho da base de dados:  32581\n",
      "Tamanho da base de dados:  131\n",
      "\n",
      " Variações da base de dados: \n",
      "\n",
      "        person_age  person_income person_home_ownership  person_emp_length  \\\n",
      "0              22          59000                  RENT              123.0   \n",
      "1              21           9600                   OWN                5.0   \n",
      "2              25           9600              MORTGAGE                1.0   \n",
      "3              23          65500                  RENT                4.0   \n",
      "4              24          54400                  RENT                8.0   \n",
      "...           ...            ...                   ...                ...   \n",
      "32576          57          53000              MORTGAGE                1.0   \n",
      "32577          54         120000              MORTGAGE                4.0   \n",
      "32578          65          76000                  RENT                3.0   \n",
      "32579          56         150000              MORTGAGE                5.0   \n",
      "32580          66          42000                  RENT                2.0   \n",
      "\n",
      "           loan_intent loan_grade  loan_amnt  loan_int_rate  loan_status  \\\n",
      "0             PERSONAL          D      35000          16.02            1   \n",
      "1            EDUCATION          B       1000          11.14            0   \n",
      "2              MEDICAL          C       5500          12.87            1   \n",
      "3              MEDICAL          C      35000          15.23            1   \n",
      "4              MEDICAL          C      35000          14.27            1   \n",
      "...                ...        ...        ...            ...          ...   \n",
      "32576         PERSONAL          C       5800          13.16            0   \n",
      "32577         PERSONAL          A      17625           7.49            0   \n",
      "32578  HOMEIMPROVEMENT          B      35000          10.99            1   \n",
      "32579         PERSONAL          B      15000          11.48            0   \n",
      "32580          MEDICAL          B       6475           9.99            0   \n",
      "\n",
      "       loan_percent_income cb_person_default_on_file  \\\n",
      "0                     0.59                         Y   \n",
      "1                     0.10                         N   \n",
      "2                     0.57                         N   \n",
      "3                     0.53                         N   \n",
      "4                     0.55                         Y   \n",
      "...                    ...                       ...   \n",
      "32576                 0.11                         N   \n",
      "32577                 0.15                         N   \n",
      "32578                 0.46                         N   \n",
      "32579                 0.10                         N   \n",
      "32580                 0.15                         N   \n",
      "\n",
      "       cb_person_cred_hist_length  \n",
      "0                               3  \n",
      "1                               2  \n",
      "2                               3  \n",
      "3                               2  \n",
      "4                               4  \n",
      "...                           ...  \n",
      "32576                          30  \n",
      "32577                          19  \n",
      "32578                          28  \n",
      "32579                          26  \n",
      "32580                          30  \n",
      "\n",
      "[32581 rows x 12 columns]\n",
      "\n",
      " tail         person_age  person_income person_home_ownership  person_emp_length  \\\n",
      "0              22          59000                  RENT              123.0   \n",
      "1              21           9600                   OWN                5.0   \n",
      "2              25           9600              MORTGAGE                1.0   \n",
      "3              23          65500                  RENT                4.0   \n",
      "4              24          54400                  RENT                8.0   \n",
      "...           ...            ...                   ...                ...   \n",
      "32576          57          53000              MORTGAGE                1.0   \n",
      "32577          54         120000              MORTGAGE                4.0   \n",
      "32578          65          76000                  RENT                3.0   \n",
      "32579          56         150000              MORTGAGE                5.0   \n",
      "32580          66          42000                  RENT                2.0   \n",
      "\n",
      "           loan_intent loan_grade  loan_amnt  loan_int_rate  loan_status  \\\n",
      "0             PERSONAL          D      35000          16.02            1   \n",
      "1            EDUCATION          B       1000          11.14            0   \n",
      "2              MEDICAL          C       5500          12.87            1   \n",
      "3              MEDICAL          C      35000          15.23            1   \n",
      "4              MEDICAL          C      35000          14.27            1   \n",
      "...                ...        ...        ...            ...          ...   \n",
      "32576         PERSONAL          C       5800          13.16            0   \n",
      "32577         PERSONAL          A      17625           7.49            0   \n",
      "32578  HOMEIMPROVEMENT          B      35000          10.99            1   \n",
      "32579         PERSONAL          B      15000          11.48            0   \n",
      "32580          MEDICAL          B       6475           9.99            0   \n",
      "\n",
      "       loan_percent_income cb_person_default_on_file  \\\n",
      "0                     0.59                         Y   \n",
      "1                     0.10                         N   \n",
      "2                     0.57                         N   \n",
      "3                     0.53                         N   \n",
      "4                     0.55                         Y   \n",
      "...                    ...                       ...   \n",
      "32576                 0.11                         N   \n",
      "32577                 0.15                         N   \n",
      "32578                 0.46                         N   \n",
      "32579                 0.10                         N   \n",
      "32580                 0.15                         N   \n",
      "\n",
      "       cb_person_cred_hist_length  \n",
      "0                               3  \n",
      "1                               2  \n",
      "2                               3  \n",
      "3                               2  \n",
      "4                               4  \n",
      "...                           ...  \n",
      "32576                          30  \n",
      "32577                          19  \n",
      "32578                          28  \n",
      "32579                          26  \n",
      "32580                          30  \n",
      "\n",
      "[32581 rows x 12 columns]\n",
      "\n",
      " describe           person_age  person_income  person_emp_length     loan_amnt  \\\n",
      "count  32581.000000   3.258100e+04       31686.000000  32581.000000   \n",
      "mean      27.734600   6.607485e+04           4.789686   9589.371106   \n",
      "std        6.348078   6.198312e+04           4.142630   6322.086646   \n",
      "min       20.000000   4.000000e+03           0.000000    500.000000   \n",
      "25%       23.000000   3.850000e+04           2.000000   5000.000000   \n",
      "50%       26.000000   5.500000e+04           4.000000   8000.000000   \n",
      "75%       30.000000   7.920000e+04           7.000000  12200.000000   \n",
      "max      144.000000   6.000000e+06         123.000000  35000.000000   \n",
      "\n",
      "       loan_int_rate   loan_status  loan_percent_income  \\\n",
      "count   29465.000000  32581.000000         32581.000000   \n",
      "mean       11.011695      0.218164             0.170203   \n",
      "std         3.240459      0.413006             0.106782   \n",
      "min         5.420000      0.000000             0.000000   \n",
      "25%         7.900000      0.000000             0.090000   \n",
      "50%        10.990000      0.000000             0.150000   \n",
      "75%        13.470000      0.000000             0.230000   \n",
      "max        23.220000      1.000000             0.830000   \n",
      "\n",
      "       cb_person_cred_hist_length  \n",
      "count                32581.000000  \n",
      "mean                     5.804211  \n",
      "std                      4.055001  \n",
      "min                      2.000000  \n",
      "25%                      3.000000  \n",
      "50%                      4.000000  \n",
      "75%                      8.000000  \n",
      "max                     30.000000  \n"
     ]
    }
   ],
   "source": [
    "#importação da base de dados\n",
    "diretorio_de_dados = os.getcwd()\n",
    "base_de_credito2 = os.path.join(diretorio_de_dados,'Bases de dados-20231203T132754Z-001\\Bases de dados')\n",
    "base_de_credito = pd.read_csv('credit_risk_dataset.csv')\n",
    "credito_data = pd.read_csv('D:\\linguagens_de_programação\\Machine Learning e Data Science com Python de A a Z\\Bases de dados-20231203T132754Z-001\\Bases de dados\\credit_data.csv')\n",
    "\n",
    "tamnho_data = len(base_de_credito)\n",
    "tamnho_data2 = len(base_de_credito2)\n",
    "\n",
    "\n",
    "colunas_selecionadas = ['person_age','person_income','person_home_ownership','person_emp_length','loan_intent','loan_grade','loan_amnt','loan_int_rate','loan_status','loan_percent_income','cb_person_default_on_file','cb_person_cred_hist_length']\n",
    "\n",
    "print('\\n ',colunas_selecionadas)\n",
    "print('Tamanho da base de dados: ', tamnho_data)\n",
    "print('Tamanho da base de dados: ', tamnho_data2)\n",
    "\n",
    "print('\\n Variações da base de dados: \\n\\n', base_de_credito.head(50000))\n",
    "\n",
    "print('\\n tail ',base_de_credito.tail(50000))\n",
    "print('\\n describe ', base_de_credito.describe())\n",
    "\n",
    "\n",
    "\n"
   ]
  },
  {
   "cell_type": "code",
   "execution_count": 55,
   "metadata": {},
   "outputs": [
    {
     "name": "stdout",
     "output_type": "stream",
     "text": [
      "[0       True\n",
      "1       True\n",
      "2       True\n",
      "3       True\n",
      "4       True\n",
      "        ... \n",
      "1995    True\n",
      "1996    True\n",
      "1997    True\n",
      "1998    True\n",
      "1999    True\n",
      "Name: income, Length: 2000, dtype: bool]\n"
     ]
    }
   ],
   "source": [
    "credito_data = [credito_data[0] <= 1.377630]\n",
    "print(credito_data)"
   ]
  },
  {
   "cell_type": "code",
   "execution_count": 60,
   "metadata": {},
   "outputs": [
    {
     "data": {
      "text/plain": [
       "(array([ True]), array([2000], dtype=int64))"
      ]
     },
     "execution_count": 60,
     "metadata": {},
     "output_type": "execute_result"
    }
   ],
   "source": [
    "np.unique(credito_data[0], return_counts=True)"
   ]
  },
  {
   "cell_type": "code",
   "execution_count": 58,
   "metadata": {},
   "outputs": [
    {
     "data": {
      "image/png": "[encoded data removed]",
      "text/plain": [
       "<Figure size 640x480 with 1 Axes>"
      ]
     },
     "metadata": {},
     "output_type": "display_data"
    }
   ],
   "source": [
    "sns.countplot(x = credito_data[0]);"
   ]
  }
 ],
 "metadata": {
  "kernelspec": {
   "display_name": "Python 3",
   "language": "python",
   "name": "python3"
  },
  "language_info": {
   "codemirror_mode": {
    "name": "ipython",
    "version": 3
   },
   "file_extension": ".py",
   "mimetype": "text/x-python",
   "name": "python",
   "nbconvert_exporter": "python",
   "pygments_lexer": "ipython3",
   "version": "3.11.6"
  }
 },
 "nbformat": 4,
 "nbformat_minor": 2
}
